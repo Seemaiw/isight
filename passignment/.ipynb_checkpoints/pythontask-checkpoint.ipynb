{
 "cells": [
  {
   "cell_type": "markdown",
   "metadata": {},
   "source": [
    "# String"
   ]
  },
  {
   "cell_type": "code",
   "execution_count": 1,
   "metadata": {},
   "outputs": [
    {
     "name": "stdout",
     "output_type": "stream",
     "text": [
      "14\n"
     ]
    }
   ],
   "source": [
    "#Write a Python program to calculate the length of a string.\n",
    "\n",
    "string1 = 'Hi, I am Seema'\n",
    "print(len(string1))"
   ]
  },
  {
   "cell_type": "code",
   "execution_count": 2,
   "metadata": {},
   "outputs": [
    {
     "name": "stdout",
     "output_type": "stream",
     "text": [
      "{'h': 1, 'e': 1, 'l': 2, 'o': 1}\n"
     ]
    }
   ],
   "source": [
    "#Write a Python program to count the number of characters (character frequency) in a string.\n",
    "\n",
    "def frequency(str1):\n",
    "    dict = {}\n",
    "    for n in str1:\n",
    "        keys = dict.keys()\n",
    "        if n in keys:\n",
    "            dict[n] += 1\n",
    "        else:\n",
    "            dict[n] = 1\n",
    "    return dict\n",
    "print(frequency('hello'))\n"
   ]
  },
  {
   "cell_type": "code",
   "execution_count": 3,
   "metadata": {},
   "outputs": [
    {
     "name": "stdout",
     "output_type": "stream",
     "text": [
      "uH$mty D$mpty H$m\n"
     ]
    }
   ],
   "source": [
    "#Write a Python program to get a string from a given string where all occurrences of its first char have been changed to '$', except the first char itself.\n",
    "\n",
    "def char_change(str1):\n",
    "  char = str1[0]\n",
    "  str1 = str1.replace(char, '$')\n",
    "  str1 = char + str1[1:]\n",
    "  return str1\n",
    "print(char_change('uHumty Dumpty Hum'))"
   ]
  },
  {
   "cell_type": "code",
   "execution_count": 4,
   "metadata": {},
   "outputs": [
    {
     "name": "stdout",
     "output_type": "stream",
     "text": [
      "Dancing\n",
      "Do\n",
      "Dancingly\n"
     ]
    }
   ],
   "source": [
    "#Write a Python program to add 'ing' at the end of a given string (length should be at least 3). If the given string already ends with 'ing' then add 'ly' instead. If the string length of the given string is less than 3, leave it unchanged.\n",
    "\n",
    "def add_string(str1):\n",
    "  leng = len(str1)\n",
    "\n",
    "  if leng > 2:\n",
    "    if str1[-3:] == 'ing':\n",
    "      str1 += 'ly'\n",
    "    else:\n",
    "      str1 += 'ing'\n",
    "\n",
    "  return str1\n",
    "print(add_string('Danc'))\n",
    "print(add_string('Do'))\n",
    "print(add_string('Dancing'))"
   ]
  },
  {
   "cell_type": "code",
   "execution_count": 5,
   "metadata": {},
   "outputs": [
    {
     "name": "stdout",
     "output_type": "stream",
     "text": [
      "<b>bold</b>\n"
     ]
    }
   ],
   "source": [
    "#Write a Python function to create the HTML string with tags around the word(s).\n",
    "\n",
    "def add_tags(str1,str2):\n",
    "    tag = (\"<{0}>{1}</{0}>\".format(str1, str2))\n",
    "    return tag\n",
    "print (add_tags('b','bold'))"
   ]
  },
  {
   "cell_type": "code",
   "execution_count": 29,
   "metadata": {},
   "outputs": [
    {
     "name": "stdout",
     "output_type": "stream",
     "text": [
      "Enter any string: hkjadhslfhjweiohhhhhhh\n",
      "h  10\n",
      "j  2\n"
     ]
    }
   ],
   "source": [
    "#Write a Python program to count repeated characters in a string.\n",
    "\n",
    "\n",
    "ask = str(input('Enter any string: '))\n",
    "\n",
    "dict = {}\n",
    "\n",
    "for i in ask:\n",
    "    dict[i] = ask.count(i)\n",
    "\n",
    "for k,v in dict.items():\n",
    "    if v != 1:\n",
    "        print (k,'',v)\n"
   ]
  },
  {
   "cell_type": "markdown",
   "metadata": {},
   "source": [
    "# List"
   ]
  },
  {
   "cell_type": "code",
   "execution_count": 7,
   "metadata": {},
   "outputs": [
    {
     "name": "stdout",
     "output_type": "stream",
     "text": [
      "SUM:  25\n"
     ]
    }
   ],
   "source": [
    "#Write a Python program to sum all the items in a list.\n",
    "\n",
    "item = [3,5,6,7,4]\n",
    "print(\"SUM: \", sum(item))"
   ]
  },
  {
   "cell_type": "code",
   "execution_count": 8,
   "metadata": {},
   "outputs": [
    {
     "name": "stdout",
     "output_type": "stream",
     "text": [
      "3\n"
     ]
    }
   ],
   "source": [
    "#Write a Python program to count the number of strings where the string length is 2 or more and the first and last character are same from a given list of strings.\n",
    "\n",
    "def list_words(strings):\n",
    "  ctr = 0\n",
    "\n",
    "  for string in strings:\n",
    "    if len(string) > 1 and string[0] == string[-1]:\n",
    "        #counting the number\n",
    "      ctr += 1\n",
    "    #returning total\n",
    "  return ctr\n",
    "\n",
    "print(list_words(['non', 'jatra', 'amamaa', 'ama']))"
   ]
  },
  {
   "cell_type": "code",
   "execution_count": 9,
   "metadata": {},
   "outputs": [
    {
     "name": "stdout",
     "output_type": "stream",
     "text": [
      "['Second', 'Third', 'Fourth']\n"
     ]
    }
   ],
   "source": [
    "#Write a Python program to print a specified list after removing the 0th, 4th and 5th elements.\n",
    "\n",
    "list_words = ['First', 'Second', 'Third', 'Fourth', 'Fifth', 'Sixth']\n",
    "list_words = [x for (i,x) in enumerate(list_words) if i not in (0,4,5)]\n",
    "print(list_words)"
   ]
  },
  {
   "cell_type": "code",
   "execution_count": 10,
   "metadata": {},
   "outputs": [
    {
     "name": "stdout",
     "output_type": "stream",
     "text": [
      "['p1', 'q1', 'p2', 'q2', 'p3', 'q3', 'p4', 'q4']\n"
     ]
    }
   ],
   "source": [
    "#Write a Python program to create a list by concatenating a given list which range goes from 1 to n.\n",
    "\n",
    "my_list = ['p', 'q']\n",
    "n = 4\n",
    "new_list = ['{}{}'.format(x, y) for y in range(1, n+1) for x in my_list]\n",
    "print(new_list)"
   ]
  },
  {
   "cell_type": "code",
   "execution_count": 11,
   "metadata": {},
   "outputs": [
    {
     "name": "stdout",
     "output_type": "stream",
     "text": [
      "[{'color_name': 'Black', 'color_code': '#000000'}, {'color_name': 'Red', 'color_code': '#FF0000'}, {'color_name': 'Maroon', 'color_code': '#800000'}, {'color_name': 'Yellow', 'color_code': '#FFFF00'}]\n"
     ]
    }
   ],
   "source": [
    "#Write a Python program to convert list to list of dictionaries.\n",
    "\n",
    "color_name = [\"Black\", \"Red\", \"Maroon\", \"Yellow\"]\n",
    "color_code = [\"#000000\", \"#FF0000\", \"#800000\", \"#FFFF00\"]\n",
    "print([{'color_name': f, 'color_code': c} for f, c in zip(color_name, color_code)])"
   ]
  },
  {
   "cell_type": "code",
   "execution_count": 12,
   "metadata": {},
   "outputs": [
    {
     "name": "stdout",
     "output_type": "stream",
     "text": [
      "[1, 2, 3, 4, 5, 6, 2, 4, 6, 8]\n"
     ]
    }
   ],
   "source": [
    "#Write a Python program to replace the last element in a list with another list.\n",
    "\n",
    "list1 = [1,2,3,4,5,6,10]\n",
    "list2 = [2,4,6,8]\n",
    "list1[-1:] = list2\n",
    "print(list1)"
   ]
  },
  {
   "cell_type": "code",
   "execution_count": 13,
   "metadata": {},
   "outputs": [
    {
     "name": "stdout",
     "output_type": "stream",
     "text": [
      "['item', 'item1', 'item2', 'item3', 'item4', 'item5']\n"
     ]
    }
   ],
   "source": [
    "#Write a Python program to insert a given string at the beginning of all items in a list. \n",
    "\n",
    "list_words = ['item1','item2','item3','item4','item5']\n",
    "string = 'item'\n",
    "list_words.insert(0, string)\n",
    "print (list_words)"
   ]
  },
  {
   "cell_type": "code",
   "execution_count": 14,
   "metadata": {},
   "outputs": [
    {
     "name": "stdout",
     "output_type": "stream",
     "text": [
      "[10, 11, 12]\n"
     ]
    }
   ],
   "source": [
    "#Write a Python program to find the list in a list of lists whose sum of elements is the highest.\n",
    "\n",
    "list_oflists = [[1,2,3], [4,5,6], [10,11,12], [7,8,9]]\n",
    "print(max(list_oflists, key=sum))"
   ]
  },
  {
   "cell_type": "markdown",
   "metadata": {},
   "source": [
    "# Dictionary"
   ]
  },
  {
   "cell_type": "code",
   "execution_count": 13,
   "metadata": {},
   "outputs": [
    {
     "name": "stdout",
     "output_type": "stream",
     "text": [
      "[(2, 'ntc'), (9, 'ncell'), (10, 'sky')]\n",
      "[(10, 'sky'), (9, 'ncell'), (2, 'ntc')]\n"
     ]
    }
   ],
   "source": [
    "#Write a Python script to sort (ascending and descending) a dictionary by value.\n",
    "\n",
    "import operator\n",
    "phone_book = {\n",
    "    9: \"ncell\",\n",
    "    2: \"ntc\",\n",
    "    10: \"sky\",\n",
    "}\n",
    "desc_sort = sorted(phone_book.items(), key=operator.itemgetter(0))\n",
    "print(desc_sort)\n",
    "ascen_sort = sorted(phone_book.items(), key=operator.itemgetter(0),reverse=True)\n",
    "print(ascen_sort)"
   ]
  },
  {
   "cell_type": "code",
   "execution_count": 16,
   "metadata": {},
   "outputs": [
    {
     "name": "stdout",
     "output_type": "stream",
     "text": [
      "{0: 10, 1: 20}\n",
      "{0: 10, 1: 20, 3: 50, 30: 42}\n"
     ]
    }
   ],
   "source": [
    "#Write a Python script to add a key to a dictionary.\n",
    "\n",
    "keys = {0:10,1:20}\n",
    "print(keys)\n",
    "#first option\n",
    "keys[3]=50\n",
    "#second option\n",
    "keys.update({30:42})\n",
    "print(keys)"
   ]
  },
  {
   "cell_type": "code",
   "execution_count": 17,
   "metadata": {},
   "outputs": [
    {
     "name": "stdout",
     "output_type": "stream",
     "text": [
      "{1: 10, 2: 20, 3: 30, 4: 40, 5: 50, 6: 60}\n"
     ]
    }
   ],
   "source": [
    "#Write a Python script to concatenate following dictionaries to create a new one.\n",
    "\n",
    "dic1={1:10,2:20}\n",
    "dic2={3:30,4:40}\n",
    "dic3={5:50,6:60}\n",
    "dic4 = {}\n",
    "for d in (dic1, dic2, dic3):\n",
    "    dic4.update(d)\n",
    "print(dic4)"
   ]
  },
  {
   "cell_type": "code",
   "execution_count": 18,
   "metadata": {},
   "outputs": [
    {
     "name": "stdout",
     "output_type": "stream",
     "text": [
      "The given key already exists\n"
     ]
    }
   ],
   "source": [
    "#Write a Python script to check if a given key already exists in a dictionary.\n",
    "\n",
    "dic1={2: 30, 4: 60, 'key1':'yes', 'key2':'no'}\n",
    "def key_check(d):\n",
    "    if d in dic1:\n",
    "        print (\"The given key already exists\")\n",
    "    else:\n",
    "        print(\"The key is not present\")\n",
    "key_check(4)"
   ]
  },
  {
   "cell_type": "code",
   "execution_count": 25,
   "metadata": {},
   "outputs": [
    {
     "name": "stdout",
     "output_type": "stream",
     "text": [
      "Youtuber Name: James Shrestha       Subscribers: 233000\n",
      "Youtuber Name: Sega Gurung       Subscribers: 849000\n",
      "Youtuber Name: Srijana Magar       Subscribers: 3000\n",
      "Youtuber Name: Sama Parajuli       Subscribers: 199\n"
     ]
    }
   ],
   "source": [
    "#Write a Python program to iterate over dictionaries using for loops.\n",
    "\n",
    "nepali_youtuber = {'James Shrestha': 233000, 'Sega Gurung': 849000, 'Srijana Magar': 3000, 'Sama Parajuli': 199}\n",
    "for name, subscriber in nepali_youtuber.items():\n",
    "    print(\"Youtuber Name: {0}       Subscribers: {1}\".format(name, subscriber)) "
   ]
  },
  {
   "cell_type": "code",
   "execution_count": 28,
   "metadata": {},
   "outputs": [
    {
     "name": "stdout",
     "output_type": "stream",
     "text": [
      "Enter a number: 5\n",
      "{1: 1, 2: 4, 3: 9, 4: 16, 5: 25}\n"
     ]
    }
   ],
   "source": [
    "# Write a Python script to generate and print a dictionary that contains a number (between 1 and n) in the form (x, x*x).\n",
    "\n",
    "n=int(input(\"Enter a number: \"))\n",
    "d = {}\n",
    "for key in range(1, n+1):\n",
    "    d[key] = key*key\n",
    "print(d)"
   ]
  },
  {
   "cell_type": "code",
   "execution_count": 36,
   "metadata": {},
   "outputs": [
    {
     "name": "stdout",
     "output_type": "stream",
     "text": [
      "{2: 'hello', 8: 'joker', 10: 'hi', 89: 'Pkr', 79: 'Ktm', 9: 'Optional'}\n"
     ]
    }
   ],
   "source": [
    "# Write a Python script to merge two Python dictionaries. \n",
    "\n",
    "d1={2:'hello',8: 'joker',10: 'hi'}\n",
    "d2={89:'Pkr', 79: 'Ktm',9: 'Optional'}\n",
    "d1.update(d2)\n",
    "print (d1)"
   ]
  },
  {
   "cell_type": "code",
   "execution_count": 45,
   "metadata": {},
   "outputs": [
    {
     "name": "stdout",
     "output_type": "stream",
     "text": [
      "6\n"
     ]
    }
   ],
   "source": [
    "# Write a Python program to sum all the items in a dictionary.\n",
    "\n",
    "s_item = {'item1': 1, 'item2': 2, 'item3': 3}\n",
    "totalsum = sum(s_item.values())\n",
    "print(totalsum)"
   ]
  },
  {
   "cell_type": "code",
   "execution_count": 51,
   "metadata": {},
   "outputs": [
    {
     "name": "stdout",
     "output_type": "stream",
     "text": [
      "54\n"
     ]
    }
   ],
   "source": [
    "#Write a Python program to multiply all the items in a dictionary.\n",
    "\n",
    "s_item = {'item1': 9, 'item2': 2, 'item3': 3}\n",
    "total = 1\n",
    "for item in s_item:\n",
    "    total = total*s_item[item]\n",
    "print(total)\n"
   ]
  },
  {
   "cell_type": "code",
   "execution_count": 9,
   "metadata": {},
   "outputs": [
    {
     "name": "stdout",
     "output_type": "stream",
     "text": [
      "Enter a key: Feb\n",
      "{'Jan': 30, 'March': 170}\n"
     ]
    }
   ],
   "source": [
    "# Write a Python program to remove a key from a dictionary.\n",
    "\n",
    "key1=input(\"Enter a key: \")\n",
    "months_pay = {'Jan': 30, 'Feb': 99, 'March': 170}\n",
    "if key1 in months_pay:\n",
    "    del months_pay[key1]\n",
    "    print(months_pay)"
   ]
  },
  {
   "cell_type": "code",
   "execution_count": 17,
   "metadata": {},
   "outputs": [
    {
     "name": "stdout",
     "output_type": "stream",
     "text": [
      "new2: 2\n",
      "new3: 3\n",
      "new5: 9\n"
     ]
    }
   ],
   "source": [
    "# Write a Python program to sort a dictionary by key.\n",
    "new_dict={'new5': 9, 'new2': 2, 'new3': 3}\n",
    "for key in sorted(new_dict):\n",
    "    print(\"%s: %s\" % (key, new_dict[key]))"
   ]
  },
  {
   "cell_type": "code",
   "execution_count": 46,
   "metadata": {},
   "outputs": [
    {
     "name": "stdout",
     "output_type": "stream",
     "text": [
      "The min value is: 10\n",
      "The max value is: 67\n"
     ]
    }
   ],
   "source": [
    "# Write a Python program to get the maximum and minimum value in a dictionary.\n",
    "\n",
    "value_dict = {'value1': 50, 'value2': 34, 'value3': 67, 'value4': 10}\n",
    "min_value = min(value_dict.values())\n",
    "max_value = max(value_dict.values())\n",
    "\n",
    "print('The min value is:', min_value)\n",
    "print('The max value is:', max_value)"
   ]
  },
  {
   "cell_type": "code",
   "execution_count": 57,
   "metadata": {},
   "outputs": [
    {
     "name": "stdout",
     "output_type": "stream",
     "text": [
      "{'value1': 50, 'value2': 34, 'value3': 47, 'value4': 10, 'value5': 90}\n"
     ]
    }
   ],
   "source": [
    "# Write a Python program to remove duplicates from Dictionary.\n",
    "\n",
    "check_dupli = {'value1': 50, 'value2': 34, 'value3': 67, 'value4': 11, 'value4': 10, 'value5':90, 'value1': 50,'value3':47,'value5':90}\n",
    "check = {}\n",
    "for key,value in check_dupli.items():\n",
    "    #condition to check whether the value is already in dictionary or not\n",
    "     if value not in check.values():\n",
    "        #assigning non redundant values in a new dictionary\n",
    "        check[key] = value\n",
    "print(check)"
   ]
  },
  {
   "cell_type": "code",
   "execution_count": 63,
   "metadata": {},
   "outputs": [
    {
     "name": "stdout",
     "output_type": "stream",
     "text": [
      "{'value1': 53, 'item2': 14, 'value3': 100, 'item4': 90}\n"
     ]
    }
   ],
   "source": [
    "# Write a Python program to combine two dictionary adding values for common keys. \n",
    "\n",
    "dnary1 = {'value1': 50, 'value2': 34, 'value3': 60, 'value4': 10}\n",
    "dnary2 = {'value1': 3, 'item2': 14, 'value3': 40, 'item4': 90}\n",
    "for key in dnary2: \n",
    "    if key in dnary1: \n",
    "        dnary2[key] = dnary2[key] + dnary1[key]         \n",
    "print(dnary2)               "
   ]
  },
  {
   "cell_type": "code",
   "execution_count": 87,
   "metadata": {},
   "outputs": [
    {
     "name": "stdout",
     "output_type": "stream",
     "text": [
      "The Unique Values are:  {'S002', 'S009', 'S005', 'S001', 'S007'}\n"
     ]
    }
   ],
   "source": [
    "# Write a Python program to print all unique values in a dictionary.\n",
    "\n",
    "value = [{\"V\":\"S001\"}, {\"V\": \"S002\"}, {\"VI\": \"S001\"}, {\"VI\": \"S005\"}, {\"VII\":\"S005\"}, {\"V\":\"S009\"},{\"VIII\":\"S007\"}]\n",
    "\n",
    "#set() is an unordered collection with no duplicate elements\n",
    "uni_value = set( val1 for dic1 in value for val1 in dic1.values())\n",
    "#which is equivalent to \n",
    "#s = set()\n",
    "#for dic in lis:\n",
    "   #for val in dic.values():\n",
    "      #s.add(val)\n",
    "print(\"The Unique Values are: \",uni_value)"
   ]
  },
  {
   "cell_type": "markdown",
   "metadata": {},
   "source": [
    "# Tuple"
   ]
  },
  {
   "cell_type": "markdown",
   "metadata": {},
   "source": [
    "# 1. Write a Python program to add an item in a tuple."
   ]
  },
  {
   "cell_type": "code",
   "execution_count": 92,
   "metadata": {},
   "outputs": [
    {
     "name": "stdout",
     "output_type": "stream",
     "text": [
      "Enter a number: 4\n",
      "(1, 2, 3)\n",
      "(1, 2, 3, 4)\n"
     ]
    }
   ],
   "source": [
    "newtup = int(input(\"Enter a number: \"))\n",
    "tup = (1, 2, 3)\n",
    "print(tup)\n",
    "tup = tup + (newtup,)\n",
    "print(tup)"
   ]
  },
  {
   "cell_type": "markdown",
   "metadata": {},
   "source": [
    "# 2. Write a Python program to get the 4th element and 4th element from last of a tuple."
   ]
  },
  {
   "cell_type": "code",
   "execution_count": 95,
   "metadata": {},
   "outputs": [
    {
     "name": "stdout",
     "output_type": "stream",
     "text": [
      "4\n",
      "6\n"
     ]
    }
   ],
   "source": [
    "tup = (1, 2, 3, 4, 5, 6, 7, 9, 11)\n",
    "print(tup[3])\n",
    "print(tup[-4])"
   ]
  },
  {
   "cell_type": "markdown",
   "metadata": {},
   "source": [
    "# 3. Write a Python program to check whether an element exists within a tuple."
   ]
  },
  {
   "cell_type": "code",
   "execution_count": 104,
   "metadata": {},
   "outputs": [
    {
     "name": "stdout",
     "output_type": "stream",
     "text": [
      "An element exists within a tuple.\n",
      "An element doesn't exists in a tuple.\n"
     ]
    }
   ],
   "source": [
    "tup = (1, 2, 3, 4, 5, 6, 7, 9, 11)\n",
    "def check_tup(x):\n",
    "    if x in tup:\n",
    "        print(\"An element exists within a tuple.\")\n",
    "    else:\n",
    "        print(\"An element doesn't exists in a tuple.\")\n",
    "check_tup(3)\n",
    "check_tup(10)"
   ]
  },
  {
   "cell_type": "markdown",
   "metadata": {},
   "source": [
    "# 4. Write a Python program to convert a list to a tuple."
   ]
  },
  {
   "cell_type": "code",
   "execution_count": 108,
   "metadata": {},
   "outputs": [
    {
     "name": "stdout",
     "output_type": "stream",
     "text": [
      "The list is converted into a tuple (1, 2, 3)\n"
     ]
    }
   ],
   "source": [
    "list1 = [1, 2, 3]\n",
    "print(\"The list is converted into a tuple\",tuple(list1))"
   ]
  },
  {
   "cell_type": "markdown",
   "metadata": {},
   "source": [
    "# 5. Write a Python program to remove an item from a tuple."
   ]
  },
  {
   "cell_type": "code",
   "execution_count": 124,
   "metadata": {},
   "outputs": [
    {
     "name": "stdout",
     "output_type": "stream",
     "text": [
      "The item is removed from a tuple ('hello', 'hi', 'pop', 'owl')\n"
     ]
    }
   ],
   "source": [
    "tup1 = ('hello', 'hi', 'how', 'pop', 'owl')\n",
    "list1 = list(tup1)\n",
    "list_remove = list1.pop(2)\n",
    "print(\"The item is removed from a tuple\",tuple(list1))"
   ]
  },
  {
   "cell_type": "markdown",
   "metadata": {},
   "source": [
    "# 6. Write a Python program to print a tuple with string formatting. "
   ]
  },
  {
   "cell_type": "code",
   "execution_count": 5,
   "metadata": {},
   "outputs": [
    {
     "name": "stdout",
     "output_type": "stream",
     "text": [
      "This is a tuple (100, 200, 300)\n"
     ]
    }
   ],
   "source": [
    "tup = (100, 200, 300)\n",
    "print('This is a tuple {0}'.format(tup))"
   ]
  },
  {
   "cell_type": "markdown",
   "metadata": {},
   "source": [
    "# 7. Write a Python program to replace last value of tuples in a list."
   ]
  },
  {
   "cell_type": "code",
   "execution_count": 6,
   "metadata": {},
   "outputs": [
    {
     "name": "stdout",
     "output_type": "stream",
     "text": [
      "[(10, 20, 100), (40, 50, 100), (70, 80, 100)]\n"
     ]
    }
   ],
   "source": [
    "tup = [(10, 20, 40), (40, 50, 60), (70, 80, 90)]\n",
    "print([t[:-1] + (100,) for t in tup])"
   ]
  },
  {
   "cell_type": "markdown",
   "metadata": {},
   "source": [
    "# 8. Write a Python program to sort a tuple by its float element. "
   ]
  },
  {
   "cell_type": "code",
   "execution_count": 7,
   "metadata": {},
   "outputs": [
    {
     "name": "stdout",
     "output_type": "stream",
     "text": [
      "[('item3', '24.5'), ('item2', '15.10'), ('item1', '12.20')]\n"
     ]
    }
   ],
   "source": [
    "price = [('item1', '12.20'), ('item2', '15.10'), ('item3', '24.5')]\n",
    "print( sorted(price, key=lambda x: float(x[1]), reverse=True))"
   ]
  },
  {
   "cell_type": "markdown",
   "metadata": {},
   "source": [
    "# Sets"
   ]
  },
  {
   "cell_type": "markdown",
   "metadata": {},
   "source": [
    "# 1. Write a Python program to create a set."
   ]
  },
  {
   "cell_type": "code",
   "execution_count": 8,
   "metadata": {},
   "outputs": [
    {
     "name": "stdout",
     "output_type": "stream",
     "text": [
      "set()\n",
      "{0, 1, 2, 3, 4}\n"
     ]
    }
   ],
   "source": [
    "#Create a new empty set \n",
    "x = set()\n",
    "print(x)\n",
    "#Create a non empty set\n",
    "n = set([0, 1, 2, 3, 4])\n",
    "print(n)"
   ]
  },
  {
   "cell_type": "markdown",
   "metadata": {},
   "source": [
    "# 2. Write a Python program to add member(s) in a set."
   ]
  },
  {
   "cell_type": "code",
   "execution_count": 12,
   "metadata": {},
   "outputs": [
    {
     "name": "stdout",
     "output_type": "stream",
     "text": [
      "{1, 2, 3, 5, 'hello', 8, 'hi', 'one_member', 'new'}\n"
     ]
    }
   ],
   "source": [
    "new_set = {1, 2, 3,'hello','hi',8}\n",
    "#adding members in a set\n",
    "new_set.add(\"one_member\")\n",
    "new_set.update((\"new\", 5))\n",
    "print(new_set)"
   ]
  },
  {
   "cell_type": "markdown",
   "metadata": {},
   "source": [
    "# 3. Write a Python program to remove an item from a set if it is present in the set."
   ]
  },
  {
   "cell_type": "code",
   "execution_count": 22,
   "metadata": {},
   "outputs": [
    {
     "name": "stdout",
     "output_type": "stream",
     "text": [
      "{0, 1, 2, 3, 4, 5, 9}\n"
     ]
    }
   ],
   "source": [
    "#Create a new set\n",
    "item_set = set([0, 1, 2, 3, 4, 5,9,6,6])\n",
    "#Discard number 6\n",
    "item_set.discard(6)\n",
    "print(item_set)"
   ]
  },
  {
   "cell_type": "markdown",
   "metadata": {},
   "source": [
    "# 4. Write a Python program to find the length of a set."
   ]
  },
  {
   "cell_type": "code",
   "execution_count": 26,
   "metadata": {},
   "outputs": [
    {
     "name": "stdout",
     "output_type": "stream",
     "text": [
      "8\n"
     ]
    }
   ],
   "source": [
    "item_set = set([0, 1, 2, 3, 4, 5, 9, 6])\n",
    "print(len(item_set))"
   ]
  },
  {
   "cell_type": "markdown",
   "metadata": {},
   "source": [
    "# 5. Write a Python program to find maximum and the minimum value in a set."
   ]
  },
  {
   "cell_type": "code",
   "execution_count": 30,
   "metadata": {},
   "outputs": [
    {
     "name": "stdout",
     "output_type": "stream",
     "text": [
      "The minimum number is 1\n",
      "The maximum number is 100\n"
     ]
    }
   ],
   "source": [
    "item_set = set([100, 1, 49, 38, 4, 54, 9, 62])\n",
    "maxi = max(item_set)\n",
    "mini = min(item_set)\n",
    "print(\"The minimum number is\",mini)\n",
    "print(\"The maximum number is\",maxi)"
   ]
  },
  {
   "cell_type": "markdown",
   "metadata": {},
   "source": [
    "# Array"
   ]
  },
  {
   "cell_type": "markdown",
   "metadata": {},
   "source": [
    "# 1. Write a Python program to create an array of 5 integers and display the array items. Access individual element through indexes."
   ]
  },
  {
   "cell_type": "code",
   "execution_count": 34,
   "metadata": {},
   "outputs": [
    {
     "name": "stdout",
     "output_type": "stream",
     "text": [
      "1\n",
      "3\n",
      "5\n",
      "7\n",
      "9\n",
      "Access individual element through indexes\n",
      "1\n",
      "3\n",
      "5\n",
      "7\n",
      "9\n"
     ]
    }
   ],
   "source": [
    "import array\n",
    "a = array.array('i',[1,3,5,7,9])\n",
    "for i in a:\n",
    "    print(i)\n",
    "print(\"Access individual element through indexes\")\n",
    "print(a[0])\n",
    "print(a[1])\n",
    "print(a[2])\n",
    "print(a[3])\n",
    "print(a[4])"
   ]
  },
  {
   "cell_type": "markdown",
   "metadata": {},
   "source": [
    "# 2.  Write a Python program to append a new item to the end of the array."
   ]
  },
  {
   "cell_type": "code",
   "execution_count": 37,
   "metadata": {},
   "outputs": [
    {
     "ename": "AttributeError",
     "evalue": "'array.array' object has no attribute 'update'",
     "output_type": "error",
     "traceback": [
      "\u001b[0;31m---------------------------------------------------------------------------\u001b[0m",
      "\u001b[0;31mAttributeError\u001b[0m                            Traceback (most recent call last)",
      "\u001b[0;32m<ipython-input-37-c450668d33c8>\u001b[0m in \u001b[0;36m<module>\u001b[0;34m\u001b[0m\n\u001b[1;32m      1\u001b[0m \u001b[0;32mimport\u001b[0m \u001b[0marray\u001b[0m\u001b[0;34m\u001b[0m\u001b[0;34m\u001b[0m\u001b[0m\n\u001b[1;32m      2\u001b[0m \u001b[0ma\u001b[0m \u001b[0;34m=\u001b[0m \u001b[0marray\u001b[0m\u001b[0;34m.\u001b[0m\u001b[0marray\u001b[0m\u001b[0;34m(\u001b[0m\u001b[0;34m'i'\u001b[0m\u001b[0;34m,\u001b[0m\u001b[0;34m[\u001b[0m\u001b[0;36m1\u001b[0m\u001b[0;34m,\u001b[0m\u001b[0;36m3\u001b[0m\u001b[0;34m,\u001b[0m\u001b[0;36m5\u001b[0m\u001b[0;34m,\u001b[0m\u001b[0;36m7\u001b[0m\u001b[0;34m,\u001b[0m\u001b[0;36m9\u001b[0m\u001b[0;34m]\u001b[0m\u001b[0;34m)\u001b[0m\u001b[0;34m\u001b[0m\u001b[0;34m\u001b[0m\u001b[0m\n\u001b[0;32m----> 3\u001b[0;31m \u001b[0ma\u001b[0m\u001b[0;34m.\u001b[0m\u001b[0mupdate\u001b[0m\u001b[0;34m(\u001b[0m\u001b[0;36m55\u001b[0m\u001b[0;34m)\u001b[0m\u001b[0;34m\u001b[0m\u001b[0;34m\u001b[0m\u001b[0m\n\u001b[0m\u001b[1;32m      4\u001b[0m \u001b[0mprint\u001b[0m\u001b[0;34m(\u001b[0m\u001b[0ma\u001b[0m\u001b[0;34m)\u001b[0m\u001b[0;34m\u001b[0m\u001b[0;34m\u001b[0m\u001b[0m\n",
      "\u001b[0;31mAttributeError\u001b[0m: 'array.array' object has no attribute 'update'"
     ]
    }
   ],
   "source": [
    "import array\n",
    "a = array.array('i',[1,3,5,7,9])\n",
    "a.append(55)\n",
    "print(a)"
   ]
  },
  {
   "cell_type": "markdown",
   "metadata": {},
   "source": [
    "# 3. Write a Python program to get the number of occurrences of a specified element in an array. "
   ]
  },
  {
   "cell_type": "code",
   "execution_count": null,
   "metadata": {},
   "outputs": [],
   "source": []
  },
  {
   "cell_type": "markdown",
   "metadata": {},
   "source": [
    "# 4. Write a Python program to insert a new item before the second element in an existing array."
   ]
  },
  {
   "cell_type": "code",
   "execution_count": null,
   "metadata": {},
   "outputs": [],
   "source": []
  },
  {
   "cell_type": "markdown",
   "metadata": {},
   "source": [
    "# 5. Write a Python program to remove the first occurrence of a specified element from an array."
   ]
  },
  {
   "cell_type": "code",
   "execution_count": null,
   "metadata": {},
   "outputs": [],
   "source": []
  },
  {
   "cell_type": "markdown",
   "metadata": {},
   "source": [
    "# 6. Write a Python program to convert an array to an ordinary list with the same items."
   ]
  },
  {
   "cell_type": "code",
   "execution_count": null,
   "metadata": {},
   "outputs": [],
   "source": []
  }
 ],
 "metadata": {
  "kernelspec": {
   "display_name": "Python 3",
   "language": "python",
   "name": "python3"
  },
  "language_info": {
   "codemirror_mode": {
    "name": "ipython",
    "version": 3
   },
   "file_extension": ".py",
   "mimetype": "text/x-python",
   "name": "python",
   "nbconvert_exporter": "python",
   "pygments_lexer": "ipython3",
   "version": "3.6.7"
  }
 },
 "nbformat": 4,
 "nbformat_minor": 2
}
