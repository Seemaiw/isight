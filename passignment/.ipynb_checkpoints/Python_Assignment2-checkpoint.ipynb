{
 "cells": [
  {
   "cell_type": "markdown",
   "metadata": {},
   "source": [
    "# Conditional statement and Loop "
   ]
  },
  {
   "cell_type": "markdown",
   "metadata": {},
   "source": [
    "# 1. Write a Python program to find those numbers which are divisible by 7 and multiple of 5, between 1500 and 2700 (both included). "
   ]
  },
  {
   "cell_type": "code",
   "execution_count": 2,
   "metadata": {},
   "outputs": [
    {
     "name": "stdout",
     "output_type": "stream",
     "text": [
      "1505\n",
      "1540\n",
      "1575\n",
      "1610\n",
      "1645\n",
      "1680\n",
      "1715\n",
      "1750\n",
      "1785\n",
      "1820\n",
      "1855\n",
      "1890\n",
      "1925\n",
      "1960\n",
      "1995\n",
      "2030\n",
      "2065\n",
      "2100\n",
      "2135\n",
      "2170\n",
      "2205\n",
      "2240\n",
      "2275\n",
      "2310\n",
      "2345\n",
      "2380\n",
      "2415\n",
      "2450\n",
      "2485\n",
      "2520\n",
      "2555\n",
      "2590\n",
      "2625\n",
      "2660\n",
      "2695\n"
     ]
    }
   ],
   "source": [
    "for i in range(1500,2700):\n",
    "    if (i%7) == 0 and (i % 5) == 0:\n",
    "        print(i)"
   ]
  },
  {
   "cell_type": "markdown",
   "metadata": {},
   "source": [
    "# 2. Create a for loop that prompts the user for a hobby 3 times, then appends each one to hobbies."
   ]
  },
  {
   "cell_type": "code",
   "execution_count": null,
   "metadata": {},
   "outputs": [],
   "source": [
    "user = ['User1','User2','User3']\n",
    "hobbies = []\n",
    "for i in range(0,3):\n",
    "    hobby = input('Tell us about your hobby:- ')\n",
    "    hobbies.append(hobby)\n",
    "    print(user[i],\"considers\",hobbies[i])"
   ]
  },
  {
   "cell_type": "markdown",
   "metadata": {},
   "source": [
    "# 3. We add a Leap Day on February 29, almost every four years. The leap day is an extra, or intercalary day and we add it to the shortest month of the year, February. \n",
    "In the Gregorian calendar three criteria must be taken into account to identify leap years:\n",
    "\n",
    "The year can be evenly divided by 4, is a leap year, unless:\n",
    "The year can be evenly divided by 100, it is NOT a leap year, unless:\n",
    "The year is also evenly divisible by 400. Then it is a leap year.\n",
    "This means that in the Gregorian calendar, the years 2000 and 2400 are leap years, while 1800, 1900, 2100, 2200, 2300 and 2500 are NOT leap years.\n"
   ]
  },
  {
   "cell_type": "code",
   "execution_count": null,
   "metadata": {},
   "outputs": [],
   "source": [
    "year = int(input('Enter a year! : '))\n",
    "if year%4 == 0 and year%100==0 and year%400==0:\n",
    "    print ('The given year',year,'is a leap year')\n",
    "else:\n",
    "    print('The given year',year,'is not a leap year')"
   ]
  },
  {
   "cell_type": "markdown",
   "metadata": {},
   "source": [
    "# 4. Write a Python program to count the number of even and odd numbers from a series of numbers.\n",
    "\tSample numbers : numbers = (1, 2, 3, 4, 5, 6, 7, 8, 9) \n",
    "\tExpected Output : \n",
    "\tNumber of even numbers : 4\n",
    "\tNumber of odd numbers : 5\n"
   ]
  },
  {
   "cell_type": "code",
   "execution_count": null,
   "metadata": {},
   "outputs": [],
   "source": [
    "numbers = (1, 2, 3, 4, 5, 6, 7, 8, 9)\n",
    "even = []\n",
    "odd = []\n",
    "list_=list(numbers)\n",
    "for n in list_:\n",
    "    if n % 2 == 0:\n",
    "        even.append(n)\n",
    "    else:\n",
    "        odd.append(n)\n",
    "print(\"Number of even numbers is : \", len(even))\n",
    "print(\"Number of odd numbers is : \", len(odd))"
   ]
  },
  {
   "cell_type": "markdown",
   "metadata": {},
   "source": [
    "# 5. Write a Python program that prints all the numbers from 0 to 6 except 3 and            6.\n",
    "\tNote : Use 'continue' statement. \n",
    "\tExpected Output : 0 1 2 4 5 "
   ]
  },
  {
   "cell_type": "code",
   "execution_count": null,
   "metadata": {},
   "outputs": [],
   "source": [
    "for item in range(0,5):\n",
    "    if item == 3 or item == 6:\n",
    "        continue\n",
    "    print(item)"
   ]
  },
  {
   "cell_type": "markdown",
   "metadata": {},
   "source": [
    "# 6.  Write a Python program which takes two digits m (row) and n (column) as input and generates a two-dimensional array. The element value in the i-th row and j-th column of the array should be i*j. \n",
    "\tNote :\n",
    "\ti = 0,1.., m-1 \n",
    "\tj = 0,1, n-1.\n",
    "\n",
    "\tTest Data : Rows = 3, Columns = 4 \n",
    "\tExpected Result : [[0, 0, 0, 0], [0, 1, 2, 3], [0, 2, 4, 6]]\n"
   ]
  },
  {
   "cell_type": "code",
   "execution_count": null,
   "metadata": {},
   "outputs": [],
   "source": [
    "m = int(input('Enter the number of row! : '))\n",
    "n = int(input('Enter the number of column! : '))\n",
    "row_list = list()\n",
    "column_list = list()\n",
    "for i in range(m):\n",
    "    for j in range(n):\n",
    "        column_list.append(i*j)\n",
    "        #print(column_list)\n",
    "    row_list.append(column_list)\n",
    "    column_list = []\n",
    "print (\"The required matrix is : \", row_list)"
   ]
  },
  {
   "cell_type": "markdown",
   "metadata": {},
   "source": [
    "# 7. Write a Python program to check the validity of password input by users.\n",
    "\tValidation :\n",
    "\n",
    "\tAt least 1 letter between [a-z] and 1 letter between [A-Z].\n",
    "\tAt least 1 number between [0-9].\n",
    "\tAt least 1 character from [$#@].\n",
    "\tMinimum length 6 characters.\n",
    "\tMaximum length 16 characters.\n"
   ]
  },
  {
   "cell_type": "code",
   "execution_count": null,
   "metadata": {},
   "outputs": [],
   "source": [
    "password = input('Enter a password for validation')\n",
    "pass_list=set()\n",
    "special_char=['#','$','@']\n",
    "for i in password:\n",
    "    if i.isupper():\n",
    "        pass_list.add('1')\n",
    "    elif i.islower():\n",
    "        pass_list.add('2')\n",
    "    elif i.isdigit():\n",
    "        pass_list.add('3')\n",
    "    elif i in special_char:\n",
    "        pass_list.add('4')\n",
    "    if len(password) >=6 and len(password) <= 16:\n",
    "        pass_list.add('5')\n",
    "if len(pass_list) is 5:\n",
    "    print(\"Password is valid\")\n",
    "else:\n",
    "    print(\"Password is not invalid\")"
   ]
  },
  {
   "cell_type": "markdown",
   "metadata": {},
   "source": [
    "# 8. Write a Python program to calculate a dog's age in dog's years.\n",
    "\tNote: For the first two years, a dog year is equal to 10.5 human years. After that, each dog year equals 4 human years.\n",
    "\tExpected Output:\n",
    "\n",
    "\tInput a dog's age in human years: 15                                    \n",
    "\tThe dog's age in dog's years is 73\n"
   ]
  },
  {
   "cell_type": "code",
   "execution_count": null,
   "metadata": {},
   "outputs": [],
   "source": [
    "i = int(input(\"Enter the age of dog in human years : \"))\n",
    "if i == 2:\n",
    "    i = 2*10.5\n",
    "elif i == 1:\n",
    "    i = 10.5\n",
    "if i > 2:\n",
    "    i = i-2\n",
    "    i = (2*10.5)+(4*i)\n",
    "print(\"The real age of dog is : \"+ str(i))"
   ]
  },
  {
   "cell_type": "markdown",
   "metadata": {},
   "source": [
    "# 9. Write a Python program to construct the following pattern, using a nested loop number.\n",
    "\tExpected Output:\n",
    "\t1\n",
    "\t22\n",
    "\t333\n",
    "\t4444\n",
    "\t55555\n",
    "\t666666\n",
    "\t7777777\n",
    "\t88888888\n",
    "\t999999999\n"
   ]
  },
  {
   "cell_type": "code",
   "execution_count": null,
   "metadata": {},
   "outputs": [],
   "source": [
    "for i in range(10):\n",
    "    print(str(i) * i)"
   ]
  },
  {
   "cell_type": "markdown",
   "metadata": {},
   "source": [
    "# Functions"
   ]
  },
  {
   "cell_type": "markdown",
   "metadata": {},
   "source": [
    "# 1. Write a Python function to find the Max of three numbers."
   ]
  },
  {
   "cell_type": "code",
   "execution_count": null,
   "metadata": {},
   "outputs": [],
   "source": [
    "num = [23,311,67]\n",
    "def to_find_max():\n",
    "    print(\"The maximum among the three numbers is \", max(num))\n",
    "to_find_max()"
   ]
  },
  {
   "cell_type": "markdown",
   "metadata": {},
   "source": [
    "# 2. Write a Python function to sum all the numbers in a list. \n",
    "\tSample List : (8, 2, 3, 0, 7)\n",
    "\tExpected Output : 20 "
   ]
  },
  {
   "cell_type": "code",
   "execution_count": 1,
   "metadata": {},
   "outputs": [
    {
     "name": "stdout",
     "output_type": "stream",
     "text": [
      "The sum of all the numbers in a list is  1038\n"
     ]
    }
   ],
   "source": [
    "num = [89,783,43,56,67]\n",
    "def to_sum_num():\n",
    "    print('The sum of all the numbers in a list is ', sum(num))\n",
    "to_sum_num()"
   ]
  },
  {
   "cell_type": "markdown",
   "metadata": {},
   "source": [
    "# 3. Write a Python function to calculate the factorial of a number (a non-negative integer). The function accepts the number as an argument. "
   ]
  },
  {
   "cell_type": "code",
   "execution_count": 12,
   "metadata": {},
   "outputs": [
    {
     "name": "stdout",
     "output_type": "stream",
     "text": [
      "The factorial of 1 is 1\n",
      "The factorial of 2 is 2\n",
      "The factorial of 3 is 6\n",
      "The factorial of 4 is 24\n",
      "The factorial of 4 is 24\n",
      "The factorial of 5 is 120\n",
      "Sorry, factorial does not exist for negative numbers\n",
      "Sorry, factorial does not exist for negative numbers\n"
     ]
    }
   ],
   "source": [
    "def fun(*args):\n",
    "    for num in args:\n",
    "        factorial = 1\n",
    "        if num < 0:\n",
    "           print(\"Sorry, factorial does not exist for negative numbers\")\n",
    "        elif num == 0:\n",
    "           print(\"The factorial of 0 is 1\")\n",
    "        else:\n",
    "           for i in range(1,num + 1):\n",
    "               factorial = factorial*i\n",
    "           print(\"The factorial of\",num,\"is\",factorial)\n",
    "fun(1,2,3,4,4,5,-8,-2)"
   ]
  },
  {
   "cell_type": "markdown",
   "metadata": {},
   "source": [
    "# 4. Define a function is_even that will take a number x as input.If x is even, then return True. Otherwise, return False. Note: even means that is divisible by two.Check if it works."
   ]
  },
  {
   "cell_type": "code",
   "execution_count": 21,
   "metadata": {},
   "outputs": [
    {
     "name": "stdout",
     "output_type": "stream",
     "text": [
      "Enter a number: 7\n",
      "False\n"
     ]
    }
   ],
   "source": [
    "def is_even(x):\n",
    "    if x%2==0:\n",
    "        print((x%2==0))    \n",
    "    else:\n",
    "        print((x%2==0)) \n",
    "is_even(int(input(\"Enter a number: \")))"
   ]
  },
  {
   "cell_type": "markdown",
   "metadata": {},
   "source": [
    "# 5. Write a function called digit_sum that takes a positive integer n as input and returns the sum of all that number's digits."
   ]
  },
  {
   "cell_type": "code",
   "execution_count": 26,
   "metadata": {},
   "outputs": [
    {
     "name": "stdout",
     "output_type": "stream",
     "text": [
      "Enter a number: 55\n",
      "The total sum is : 10\n"
     ]
    }
   ],
   "source": [
    "def digit_sum(n):\n",
    "    dig=0 # this is the result os the sum\n",
    "    number=str(n) #transform the number into string so we can iterate \n",
    "    for i in range(len(number)):\n",
    "        dig=dig+int(number[i]) #transform the char to int\n",
    "    print(\"The total sum is :\",dig) #print the sum\n",
    "digit_sum(int(input(\"Enter a number: \")))   "
   ]
  },
  {
   "cell_type": "markdown",
   "metadata": {},
   "source": [
    "# 6.  Write a Python function that accepts a string and calculate the number of upper case letters and lower case letters.\n",
    "\tSample String : 'The quick Brow Fox'\n",
    "\tExpected Output : \n",
    "\tNo. of Upper case characters : 3\n",
    "\tNo. of Lower case Characters : 12\n"
   ]
  },
  {
   "cell_type": "code",
   "execution_count": 30,
   "metadata": {},
   "outputs": [
    {
     "name": "stdout",
     "output_type": "stream",
     "text": [
      "No. of Upper case characters : 4 and No. of Lower case characters : 12\n"
     ]
    }
   ],
   "source": [
    "def check_letter(s):      \n",
    "    u = sum(1 for i in s if i.isupper())\n",
    "    l = sum(1 for i in s if i.islower())\n",
    "    print( \"No. of Upper case characters : %s and No. of Lower case characters : %s\" % (u,l))\n",
    "check_letter(\"Hi! My Friend Shanti\")"
   ]
  },
  {
   "cell_type": "markdown",
   "metadata": {},
   "source": [
    "# 7. Write a shutting down program:\n",
    "\n",
    "First, def a function, shut_down, that takes one argument s. Then, if the shut_down function receives an s equal to \"yes\", it should return \"Shutting down\" Alternatively, elif s is equal to \"no\", then the function should return \"Shutdown aborted\". Finally, if shut_down gets anything other than those inputs, the function should return \"Sorry\".\n"
   ]
  },
  {
   "cell_type": "code",
   "execution_count": 34,
   "metadata": {},
   "outputs": [
    {
     "name": "stdout",
     "output_type": "stream",
     "text": [
      "Do you want to Shutdown?gh\n"
     ]
    },
    {
     "data": {
      "text/plain": [
       "'Sorry'"
      ]
     },
     "execution_count": 34,
     "metadata": {},
     "output_type": "execute_result"
    }
   ],
   "source": [
    "def shut_down(s):\n",
    "    if s == \"yes\":\n",
    "        return 'Shutting down'\n",
    "    elif s == \"no\":\n",
    "        return 'Shutdown aborted'\n",
    "    else:\n",
    "        return 'Sorry'\n",
    "shut_down(input(\"Do you want to Shutdown?\"))"
   ]
  }
 ],
 "metadata": {
  "kernelspec": {
   "display_name": "Python 3",
   "language": "python",
   "name": "python3"
  },
  "language_info": {
   "codemirror_mode": {
    "name": "ipython",
    "version": 3
   },
   "file_extension": ".py",
   "mimetype": "text/x-python",
   "name": "python",
   "nbconvert_exporter": "python",
   "pygments_lexer": "ipython3",
   "version": "3.6.7"
  }
 },
 "nbformat": 4,
 "nbformat_minor": 2
}
